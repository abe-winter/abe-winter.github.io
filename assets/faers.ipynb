{
 "cells": [
  {
   "attachments": {},
   "cell_type": "markdown",
   "metadata": {},
   "source": [
    "## ascii prefixes\n",
    "\n",
    "files in the aers zip. (this is from the bundled doc. you can download quarterly data [here](https://fis.fda.gov/extensions/FPD-QDE-FAERS/FPD-QDE-FAERS.html))\n",
    "\n",
    "1. **DEMO**: patient demographic and administrative information, a single record for each event report.\n",
    "2. **DRUG**: drug/biologic information for as many medications as were reported for the event (1 or more per event).\n",
    "3. **REAC**: all \"Medical Dictionary for Regulatory Activities\" (MedDRA) terms coded for the event www.meddramsso.com\n",
    "4. **OUTC**: patient outcomes for the event (0 or more).\n",
    "5. **RPSR**: report sources for event (0 or more).\n",
    "6. **THER**: drug therapy start dates and end dates for the reported drugs (0 or more per drug per event).\n",
    "7. **INDI**: all \"Medical Dictionary for Regulatory Activities\" (MedDRA) terms coded for the indications for use (diagnoses)"
   ]
  },
  {
   "cell_type": "code",
   "execution_count": null,
   "metadata": {},
   "outputs": [],
   "source": [
    "import pathlib, collections, itertools, csv\n",
    "suffix = '22Q4.txt'\n",
    "path = pathlib.Path('~/Downloads/aers/ASCII').expanduser()\n",
    "\n",
    "def aers_rows(prefix: str):\n",
    "    \"return namedtuple + iterator\"\n",
    "    rows = csv.reader(open(path / f'{prefix}{suffix}'), delimiter='$')\n",
    "    Row = collections.namedtuple(f'{prefix}Row', next(rows))\n",
    "    return Row, itertools.starmap(Row, rows)\n"
   ]
  },
  {
   "cell_type": "code",
   "execution_count": null,
   "metadata": {},
   "outputs": [],
   "source": [
    "import collections\n",
    "drug2active = collections.defaultdict(set)\n",
    "case2drug = collections.defaultdict(list)\n",
    "_, drug_rows = aers_rows('DRUG')\n",
    "for row in drug_rows:\n",
    "    drug2active[row.drugname].add(row.prod_ai)\n",
    "    case2drug[row.caseid].append(row.drugname)\n",
    "print(len(drug2active), 'drugs', len(case2drug), 'cases')"
   ]
  },
  {
   "cell_type": "code",
   "execution_count": null,
   "metadata": {},
   "outputs": [],
   "source": [
    "candidates = collections.defaultdict(set)\n",
    "for drug, active in drug2active.items():\n",
    "    full = drug.lower() + ' '.join(x.lower() for x in active)\n",
    "    if ('adderall' in full or 'amphetamine' in full) and not ('methamphetamine' in full):\n",
    "        candidates[drug].add(full)\n",
    "print(len(candidates), 'candidates')\n",
    "\n",
    "cases = {\n",
    "    case_id\n",
    "    for case_id, drugs in case2drug.items()\n",
    "    if any(x in candidates for x in drugs)\n",
    "}\n",
    "print(len(cases), 'cases')"
   ]
  },
  {
   "attachments": {},
   "cell_type": "markdown",
   "metadata": {},
   "source": [
    "## outcome codes\n",
    "\n",
    "(from ASC_NTS.pdf in the zip file)\n",
    "\n",
    "CODE | MEANING_TEXT\n",
    "---|---\n",
    "DE | Death\n",
    "LT | Life-Threatening\n",
    "HO | Hospitalization - Initial or Prolonged\n",
    "DS | Disability\n",
    "CA | Congenital Anomaly\n",
    "RI | Required Intervention to Prevent Permanent Impairment/Damage\n",
    "OT | Other Serious (Important Medical Event)\n"
   ]
  },
  {
   "cell_type": "code",
   "execution_count": null,
   "metadata": {},
   "outputs": [],
   "source": [
    "_ReacRow, reactions = aers_rows('REAC')\n",
    "case2reac = collections.defaultdict(list)\n",
    "for row in reactions:\n",
    "    if row.caseid in cases:\n",
    "        case2reac[row.caseid].append(row.pt)\n",
    "reac_counts = collections.Counter(x for val in case2reac.values() for x in val)\n",
    "print('reactions', len(reac_counts), reac_counts.most_common(100))\n",
    "\n",
    "case2outc = collections.defaultdict(list)\n",
    "_OutcRow, outcomes = aers_rows('OUTC')\n",
    "serious_case = set()\n",
    "# print(OutcRow._fields)\n",
    "for row in outcomes:\n",
    "    if row.caseid in cases:\n",
    "        case2outc[row.caseid].append(row.outc_cod)\n",
    "        if row.outc_cod == 'DE':\n",
    "            serious_case.add(row.caseid)\n",
    "print('outcomes', collections.Counter(x for val in case2outc.values() for x in val))\n",
    "print('serious cases', len(serious_case))\n"
   ]
  },
  {
   "cell_type": "code",
   "execution_count": null,
   "metadata": {},
   "outputs": [],
   "source": [
    "serious_morph = set()\n",
    "serious_meth = set()\n",
    "serious_other = set()\n",
    "for case in serious_case:\n",
    "    full = ' '.join(case2drug[case])\n",
    "    if 'ORPH' in full or 'FENT' in full or 'HEROI' in full or 'OXY' in full or 'CODONE' in full:\n",
    "        serious_morph.add(case)\n",
    "    elif 'METH' in full or 'COCAI' in full:\n",
    "        serious_meth.add(case)\n",
    "    else:\n",
    "        serious_other.add(case)\n",
    "\n",
    "print('opioid', len(serious_morph), 'meth-coke', len(serious_meth), 'other', len(serious_other))\n",
    "print('ndrugs in serious_other', collections.Counter(len(case2drug[case]) for case in serious_other))\n",
    "for case in serious_other:\n",
    "    print(case, case2outc[case], case2drug[case])"
   ]
  }
 ],
 "metadata": {
  "kernelspec": {
   "display_name": "klerb-33PJ2xXb",
   "language": "python",
   "name": "python3"
  },
  "language_info": {
   "codemirror_mode": {
    "name": "ipython",
    "version": 3
   },
   "file_extension": ".py",
   "mimetype": "text/x-python",
   "name": "python",
   "nbconvert_exporter": "python",
   "pygments_lexer": "ipython3",
   "version": "3.10.6"
  },
  "orig_nbformat": 4
 },
 "nbformat": 4,
 "nbformat_minor": 2
}
